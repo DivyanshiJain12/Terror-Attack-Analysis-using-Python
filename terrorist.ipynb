{
  "nbformat": 4,
  "nbformat_minor": 0,
  "metadata": {
    "colab": {
      "provenance": [],
      "toc_visible": true,
      "mount_file_id": "1kSu_yvUEWFOWueVFdboYl7c1rFj2pC68",
      "authorship_tag": "ABX9TyMlJGevIaHamYN+dndm7Gp1",
      "include_colab_link": true
    },
    "kernelspec": {
      "name": "python3",
      "display_name": "Python 3"
    },
    "language_info": {
      "name": "python"
    }
  },
  "cells": [
    {
      "cell_type": "markdown",
      "metadata": {
        "id": "view-in-github",
        "colab_type": "text"
      },
      "source": [
        "<a href=\"https://colab.research.google.com/github/DivyanshiJain12/Terror-Attack-Analysis-using-Python/blob/main/terrorist.ipynb\" target=\"_parent\"><img src=\"https://colab.research.google.com/assets/colab-badge.svg\" alt=\"Open In Colab\"/></a>"
      ]
    },
    {
      "cell_type": "code",
      "execution_count": null,
      "metadata": {
        "id": "xHvTYwCz1VHG"
      },
      "outputs": [],
      "source": [
        "import pandas as pd\n",
        "data = pd.read_csv('/content/drive/MyDrive/Colab Notebooks/terrorismData.csv')"
      ]
    },
    {
      "cell_type": "code",
      "source": [
        "df = data.copy()\n",
        "df.describe"
      ],
      "metadata": {
        "colab": {
          "base_uri": "https://localhost:8080/",
          "height": 186
        },
        "collapsed": true,
        "id": "puJjXNuD7qXw",
        "outputId": "16b8ba9d-2df4-4799-9717-1aaf2c06d17b"
      },
      "execution_count": null,
      "outputs": [
        {
          "output_type": "execute_result",
          "data": {
            "text/plain": [
              "<bound method NDFrame.describe of         Year  Month  Day             Country            State  \\\n",
              "0       1970      7    2  Dominican Republic              NaN   \n",
              "1       1970      0    0              Mexico          Federal   \n",
              "2       1970      1    0         Philippines           Tarlac   \n",
              "3       1970      1    0              Greece           Attica   \n",
              "4       1970      1    0               Japan          Fukouka   \n",
              "...      ...    ...  ...                 ...              ...   \n",
              "181686  2017     12   31             Somalia  Middle Shebelle   \n",
              "181687  2017     12   31               Syria         Lattakia   \n",
              "181688  2017     12   31         Philippines      Maguindanao   \n",
              "181689  2017     12   31               India          Manipur   \n",
              "181690  2017     12   31         Philippines      Maguindanao   \n",
              "\n",
              "                             Region           City   Latitude   Longitude  \\\n",
              "0       Central America & Caribbean  Santo Domingo  18.456792  -69.951164   \n",
              "1                     North America    Mexico city  19.371887  -99.086624   \n",
              "2                    Southeast Asia        Unknown  15.478598  120.599741   \n",
              "3                    Western Europe         Athens  37.997490   23.762728   \n",
              "4                         East Asia        Fukouka  33.580412  130.396361   \n",
              "...                             ...            ...        ...         ...   \n",
              "181686           Sub-Saharan Africa  Ceelka Geelow   2.359673   45.385034   \n",
              "181687   Middle East & North Africa         Jableh  35.407278   35.942679   \n",
              "181688               Southeast Asia       Kubentog   6.900742  124.437908   \n",
              "181689                   South Asia         Imphal  24.798346   93.940430   \n",
              "181690               Southeast Asia  Cotabato City   7.209594  124.241966   \n",
              "\n",
              "                            AttackType  Killed  Wounded  \\\n",
              "0                        Assassination     1.0      0.0   \n",
              "1          Hostage Taking (Kidnapping)     0.0      0.0   \n",
              "2                        Assassination     1.0      0.0   \n",
              "3                    Bombing/Explosion     NaN      NaN   \n",
              "4       Facility/Infrastructure Attack     NaN      NaN   \n",
              "...                                ...     ...      ...   \n",
              "181686                   Armed Assault     1.0      2.0   \n",
              "181687               Bombing/Explosion     2.0      7.0   \n",
              "181688  Facility/Infrastructure Attack     0.0      0.0   \n",
              "181689               Bombing/Explosion     0.0      0.0   \n",
              "181690               Bombing/Explosion     0.0      0.0   \n",
              "\n",
              "                         Target  \\\n",
              "0                  Julio Guzman   \n",
              "1       Nadine Chaval, daughter   \n",
              "2                      Employee   \n",
              "3                  U.S. Embassy   \n",
              "4                U.S. Consulate   \n",
              "...                         ...   \n",
              "181686               Checkpoint   \n",
              "181687         Hmeymim Air Base   \n",
              "181688                   Houses   \n",
              "181689                   Office   \n",
              "181690                  Unknown   \n",
              "\n",
              "                                                  Summary  \\\n",
              "0                                                     NaN   \n",
              "1                                                     NaN   \n",
              "2                                                     NaN   \n",
              "3                                                     NaN   \n",
              "4                                                     NaN   \n",
              "...                                                   ...   \n",
              "181686  12/31/2017: Assailants opened fire on a Somali...   \n",
              "181687  12/31/2017: Assailants launched mortars at the...   \n",
              "181688  12/31/2017: Assailants set fire to houses in K...   \n",
              "181689  12/31/2017: Assailants threw a grenade at a Fo...   \n",
              "181690  12/31/2017: An explosive device was discovered...   \n",
              "\n",
              "                                             Group  \\\n",
              "0                                           MANO-D   \n",
              "1               23rd of September Communist League   \n",
              "2                                          Unknown   \n",
              "3                                          Unknown   \n",
              "4                                          Unknown   \n",
              "...                                            ...   \n",
              "181686                                  Al-Shabaab   \n",
              "181687                           Muslim extremists   \n",
              "181688  Bangsamoro Islamic Freedom Movement (BIFM)   \n",
              "181689                                     Unknown   \n",
              "181690                                     Unknown   \n",
              "\n",
              "                        Target_type Weapon_type  \n",
              "0       Private Citizens & Property     Unknown  \n",
              "1           Government (Diplomatic)     Unknown  \n",
              "2               Journalists & Media     Unknown  \n",
              "3           Government (Diplomatic)  Explosives  \n",
              "4           Government (Diplomatic)  Incendiary  \n",
              "...                             ...         ...  \n",
              "181686                     Military    Firearms  \n",
              "181687                     Military  Explosives  \n",
              "181688  Private Citizens & Property  Incendiary  \n",
              "181689         Government (General)  Explosives  \n",
              "181690                      Unknown  Explosives  \n",
              "\n",
              "[181691 rows x 17 columns]>"
            ],
            "text/html": [
              "<div style=\"max-width:800px; border: 1px solid var(--colab-border-color);\"><style>\n",
              "      pre.function-repr-contents {\n",
              "        overflow-x: auto;\n",
              "        padding: 8px 12px;\n",
              "        max-height: 500px;\n",
              "      }\n",
              "\n",
              "      pre.function-repr-contents.function-repr-contents-collapsed {\n",
              "        cursor: pointer;\n",
              "        max-height: 100px;\n",
              "      }\n",
              "    </style>\n",
              "    <pre style=\"white-space: initial; background:\n",
              "         var(--colab-secondary-surface-color); padding: 8px 12px;\n",
              "         border-bottom: 1px solid var(--colab-border-color);\"><b>pandas.core.generic.NDFrame.describe</b><br/>def describe(percentiles=None, include=None, exclude=None) -&gt; Self</pre><pre class=\"function-repr-contents function-repr-contents-collapsed\" style=\"\"><a class=\"filepath\" style=\"display:none\" href=\"#\">/usr/local/lib/python3.10/dist-packages/pandas/core/generic.py</a>Generate descriptive statistics.\n",
              "\n",
              "Descriptive statistics include those that summarize the central\n",
              "tendency, dispersion and shape of a\n",
              "dataset&#x27;s distribution, excluding ``NaN`` values.\n",
              "\n",
              "Analyzes both numeric and object series, as well\n",
              "as ``DataFrame`` column sets of mixed data types. The output\n",
              "will vary depending on what is provided. Refer to the notes\n",
              "below for more detail.\n",
              "\n",
              "Parameters\n",
              "----------\n",
              "percentiles : list-like of numbers, optional\n",
              "    The percentiles to include in the output. All should\n",
              "    fall between 0 and 1. The default is\n",
              "    ``[.25, .5, .75]``, which returns the 25th, 50th, and\n",
              "    75th percentiles.\n",
              "include : &#x27;all&#x27;, list-like of dtypes or None (default), optional\n",
              "    A white list of data types to include in the result. Ignored\n",
              "    for ``Series``. Here are the options:\n",
              "\n",
              "    - &#x27;all&#x27; : All columns of the input will be included in the output.\n",
              "    - A list-like of dtypes : Limits the results to the\n",
              "      provided data types.\n",
              "      To limit the result to numeric types submit\n",
              "      ``numpy.number``. To limit it instead to object columns submit\n",
              "      the ``numpy.object`` data type. Strings\n",
              "      can also be used in the style of\n",
              "      ``select_dtypes`` (e.g. ``df.describe(include=[&#x27;O&#x27;])``). To\n",
              "      select pandas categorical columns, use ``&#x27;category&#x27;``\n",
              "    - None (default) : The result will include all numeric columns.\n",
              "exclude : list-like of dtypes or None (default), optional,\n",
              "    A black list of data types to omit from the result. Ignored\n",
              "    for ``Series``. Here are the options:\n",
              "\n",
              "    - A list-like of dtypes : Excludes the provided data types\n",
              "      from the result. To exclude numeric types submit\n",
              "      ``numpy.number``. To exclude object columns submit the data\n",
              "      type ``numpy.object``. Strings can also be used in the style of\n",
              "      ``select_dtypes`` (e.g. ``df.describe(exclude=[&#x27;O&#x27;])``). To\n",
              "      exclude pandas categorical columns, use ``&#x27;category&#x27;``\n",
              "    - None (default) : The result will exclude nothing.\n",
              "\n",
              "Returns\n",
              "-------\n",
              "Series or DataFrame\n",
              "    Summary statistics of the Series or Dataframe provided.\n",
              "\n",
              "See Also\n",
              "--------\n",
              "DataFrame.count: Count number of non-NA/null observations.\n",
              "DataFrame.max: Maximum of the values in the object.\n",
              "DataFrame.min: Minimum of the values in the object.\n",
              "DataFrame.mean: Mean of the values.\n",
              "DataFrame.std: Standard deviation of the observations.\n",
              "DataFrame.select_dtypes: Subset of a DataFrame including/excluding\n",
              "    columns based on their dtype.\n",
              "\n",
              "Notes\n",
              "-----\n",
              "For numeric data, the result&#x27;s index will include ``count``,\n",
              "``mean``, ``std``, ``min``, ``max`` as well as lower, ``50`` and\n",
              "upper percentiles. By default the lower percentile is ``25`` and the\n",
              "upper percentile is ``75``. The ``50`` percentile is the\n",
              "same as the median.\n",
              "\n",
              "For object data (e.g. strings or timestamps), the result&#x27;s index\n",
              "will include ``count``, ``unique``, ``top``, and ``freq``. The ``top``\n",
              "is the most common value. The ``freq`` is the most common value&#x27;s\n",
              "frequency. Timestamps also include the ``first`` and ``last`` items.\n",
              "\n",
              "If multiple object values have the highest count, then the\n",
              "``count`` and ``top`` results will be arbitrarily chosen from\n",
              "among those with the highest count.\n",
              "\n",
              "For mixed data types provided via a ``DataFrame``, the default is to\n",
              "return only an analysis of numeric columns. If the dataframe consists\n",
              "only of object and categorical data without any numeric columns, the\n",
              "default is to return an analysis of both the object and categorical\n",
              "columns. If ``include=&#x27;all&#x27;`` is provided as an option, the result\n",
              "will include a union of attributes of each type.\n",
              "\n",
              "The `include` and `exclude` parameters can be used to limit\n",
              "which columns in a ``DataFrame`` are analyzed for the output.\n",
              "The parameters are ignored when analyzing a ``Series``.\n",
              "\n",
              "Examples\n",
              "--------\n",
              "Describing a numeric ``Series``.\n",
              "\n",
              "&gt;&gt;&gt; s = pd.Series([1, 2, 3])\n",
              "&gt;&gt;&gt; s.describe()\n",
              "count    3.0\n",
              "mean     2.0\n",
              "std      1.0\n",
              "min      1.0\n",
              "25%      1.5\n",
              "50%      2.0\n",
              "75%      2.5\n",
              "max      3.0\n",
              "dtype: float64\n",
              "\n",
              "Describing a categorical ``Series``.\n",
              "\n",
              "&gt;&gt;&gt; s = pd.Series([&#x27;a&#x27;, &#x27;a&#x27;, &#x27;b&#x27;, &#x27;c&#x27;])\n",
              "&gt;&gt;&gt; s.describe()\n",
              "count     4\n",
              "unique    3\n",
              "top       a\n",
              "freq      2\n",
              "dtype: object\n",
              "\n",
              "Describing a timestamp ``Series``.\n",
              "\n",
              "&gt;&gt;&gt; s = pd.Series([\n",
              "...     np.datetime64(&quot;2000-01-01&quot;),\n",
              "...     np.datetime64(&quot;2010-01-01&quot;),\n",
              "...     np.datetime64(&quot;2010-01-01&quot;)\n",
              "... ])\n",
              "&gt;&gt;&gt; s.describe()\n",
              "count                      3\n",
              "mean     2006-09-01 08:00:00\n",
              "min      2000-01-01 00:00:00\n",
              "25%      2004-12-31 12:00:00\n",
              "50%      2010-01-01 00:00:00\n",
              "75%      2010-01-01 00:00:00\n",
              "max      2010-01-01 00:00:00\n",
              "dtype: object\n",
              "\n",
              "Describing a ``DataFrame``. By default only numeric fields\n",
              "are returned.\n",
              "\n",
              "&gt;&gt;&gt; df = pd.DataFrame({&#x27;categorical&#x27;: pd.Categorical([&#x27;d&#x27;, &#x27;e&#x27;, &#x27;f&#x27;]),\n",
              "...                    &#x27;numeric&#x27;: [1, 2, 3],\n",
              "...                    &#x27;object&#x27;: [&#x27;a&#x27;, &#x27;b&#x27;, &#x27;c&#x27;]\n",
              "...                    })\n",
              "&gt;&gt;&gt; df.describe()\n",
              "       numeric\n",
              "count      3.0\n",
              "mean       2.0\n",
              "std        1.0\n",
              "min        1.0\n",
              "25%        1.5\n",
              "50%        2.0\n",
              "75%        2.5\n",
              "max        3.0\n",
              "\n",
              "Describing all columns of a ``DataFrame`` regardless of data type.\n",
              "\n",
              "&gt;&gt;&gt; df.describe(include=&#x27;all&#x27;)  # doctest: +SKIP\n",
              "       categorical  numeric object\n",
              "count            3      3.0      3\n",
              "unique           3      NaN      3\n",
              "top              f      NaN      a\n",
              "freq             1      NaN      1\n",
              "mean           NaN      2.0    NaN\n",
              "std            NaN      1.0    NaN\n",
              "min            NaN      1.0    NaN\n",
              "25%            NaN      1.5    NaN\n",
              "50%            NaN      2.0    NaN\n",
              "75%            NaN      2.5    NaN\n",
              "max            NaN      3.0    NaN\n",
              "\n",
              "Describing a column from a ``DataFrame`` by accessing it as\n",
              "an attribute.\n",
              "\n",
              "&gt;&gt;&gt; df.numeric.describe()\n",
              "count    3.0\n",
              "mean     2.0\n",
              "std      1.0\n",
              "min      1.0\n",
              "25%      1.5\n",
              "50%      2.0\n",
              "75%      2.5\n",
              "max      3.0\n",
              "Name: numeric, dtype: float64\n",
              "\n",
              "Including only numeric columns in a ``DataFrame`` description.\n",
              "\n",
              "&gt;&gt;&gt; df.describe(include=[np.number])\n",
              "       numeric\n",
              "count      3.0\n",
              "mean       2.0\n",
              "std        1.0\n",
              "min        1.0\n",
              "25%        1.5\n",
              "50%        2.0\n",
              "75%        2.5\n",
              "max        3.0\n",
              "\n",
              "Including only string columns in a ``DataFrame`` description.\n",
              "\n",
              "&gt;&gt;&gt; df.describe(include=[object])  # doctest: +SKIP\n",
              "       object\n",
              "count       3\n",
              "unique      3\n",
              "top         a\n",
              "freq        1\n",
              "\n",
              "Including only categorical columns from a ``DataFrame`` description.\n",
              "\n",
              "&gt;&gt;&gt; df.describe(include=[&#x27;category&#x27;])\n",
              "       categorical\n",
              "count            3\n",
              "unique           3\n",
              "top              d\n",
              "freq             1\n",
              "\n",
              "Excluding numeric columns from a ``DataFrame`` description.\n",
              "\n",
              "&gt;&gt;&gt; df.describe(exclude=[np.number])  # doctest: +SKIP\n",
              "       categorical object\n",
              "count            3      3\n",
              "unique           3      3\n",
              "top              f      a\n",
              "freq             1      1\n",
              "\n",
              "Excluding object columns from a ``DataFrame`` description.\n",
              "\n",
              "&gt;&gt;&gt; df.describe(exclude=[object])  # doctest: +SKIP\n",
              "       categorical  numeric\n",
              "count            3      3.0\n",
              "unique           3      NaN\n",
              "top              f      NaN\n",
              "freq             1      NaN\n",
              "mean           NaN      2.0\n",
              "std            NaN      1.0\n",
              "min            NaN      1.0\n",
              "25%            NaN      1.5\n",
              "50%            NaN      2.0\n",
              "75%            NaN      2.5\n",
              "max            NaN      3.0</pre>\n",
              "      <script>\n",
              "      if (google.colab.kernel.accessAllowed && google.colab.files && google.colab.files.view) {\n",
              "        for (const element of document.querySelectorAll('.filepath')) {\n",
              "          element.style.display = 'block'\n",
              "          element.onclick = (event) => {\n",
              "            event.preventDefault();\n",
              "            event.stopPropagation();\n",
              "            google.colab.files.view(element.textContent, 11734);\n",
              "          };\n",
              "        }\n",
              "      }\n",
              "      for (const element of document.querySelectorAll('.function-repr-contents')) {\n",
              "        element.onclick = (event) => {\n",
              "          event.preventDefault();\n",
              "          event.stopPropagation();\n",
              "          element.classList.toggle('function-repr-contents-collapsed');\n",
              "        };\n",
              "      }\n",
              "      </script>\n",
              "      </div>"
            ]
          },
          "metadata": {},
          "execution_count": 2
        }
      ]
    },
    {
      "cell_type": "code",
      "source": [
        "df = df = data.copy()\n",
        "df = df[(df.State == 'Jammu and Kashmir')]"
      ],
      "metadata": {
        "id": "0xH0Js_l9JOs"
      },
      "execution_count": null,
      "outputs": []
    },
    {
      "cell_type": "code",
      "source": [
        "pivot1 = df.groupby('City').count()['AttackType'].sort_values(ascending= False)\n",
        "city = pivot1.index[0]\n",
        "attacks = pivot1.values[0]\n",
        "\n",
        "df1 = df[(df.City == city) & (df.Group != 'Unknown')]\n",
        "pivot2 = df1.groupby('Group').count()['AttackType'].sort_values(ascending= False)\n",
        "group = pivot2.index[0]\n",
        "print(city,attacks,group)\n"
      ],
      "metadata": {
        "colab": {
          "base_uri": "https://localhost:8080/"
        },
        "id": "y8FqzNJB9Oj7",
        "outputId": "76db5c3e-48a8-47d3-f597-8195c62d164f"
      },
      "execution_count": null,
      "outputs": [
        {
          "output_type": "stream",
          "name": "stdout",
          "text": [
            "Srinagar 657 Muslim Separatists\n"
          ]
        }
      ]
    },
    {
      "cell_type": "code",
      "source": [
        "df = data.copy()\n",
        "Pivot3=df.groupby('Country').count()['AttackType'].sort_values(ascending= False)\n",
        "country=Pivot3.index[0]\n",
        "attacks=Pivot3.values[0]\n",
        "\n",
        "df1 = df[(df.Country == country)]\n",
        "pivot4 = df1.groupby('Year').count()['AttackType'].sort_values(ascending= False)\n",
        "year=pivot4.index[0]\n",
        "print(country,attacks,year)"
      ],
      "metadata": {
        "colab": {
          "base_uri": "https://localhost:8080/"
        },
        "id": "ghxbB-gWAGx4",
        "outputId": "4389d076-be5a-438c-a771-e587ffe7a098"
      },
      "execution_count": null,
      "outputs": [
        {
          "output_type": "stream",
          "name": "stdout",
          "text": [
            "Iraq 24636 2014\n"
          ]
        }
      ]
    },
    {
      "cell_type": "code",
      "source": [
        "df = data.copy()\n",
        "df = df[df.Killed == df.Killed.max()]\n",
        "killed = df.iloc[0].values[10]\n",
        "print(int(killed))"
      ],
      "metadata": {
        "colab": {
          "base_uri": "https://localhost:8080/"
        },
        "id": "Pw3XbBi_KJqt",
        "outputId": "e3752289-6451-40e1-a3f0-cba644c02137"
      },
      "execution_count": null,
      "outputs": [
        {
          "output_type": "stream",
          "name": "stdout",
          "text": [
            "1570\n"
          ]
        }
      ]
    },
    {
      "cell_type": "code",
      "source": [
        "df = data.copy()\n",
        "df1 = df[df.Year > 2014]\n",
        "df2 = df[df.Year == 2014]\n",
        "df2 = df2[df2.Month > 5]\n",
        "df3 = df[(df.Year == 2014) & (df.Month == 5) & (df.Day >= 26)]\n",
        "\n",
        "df4 = pd.concat([df1,df2,df3]).reset_index(drop = True)\n",
        "\n",
        "df4 = df4[(df4.Country == 'India')]\n",
        "pivot1 = df4.groupby('Country').count()['AttackType'].sort_values(ascending=False)\n",
        "attacks = pivot1.values[0]\n",
        "pivot2 = df4.groupby('Group').count()['AttackType'].sort_values(ascending=False)\n",
        "group = pivot2.index[1]\n",
        "print(group, attacks)"
      ],
      "metadata": {
        "colab": {
          "base_uri": "https://localhost:8080/"
        },
        "id": "lUcgPJ-EMTQq",
        "outputId": "ddcaafc0-6a89-4704-9690-56b9806507ef"
      },
      "execution_count": null,
      "outputs": [
        {
          "output_type": "stream",
          "name": "stdout",
          "text": [
            "Maoists 3336\n"
          ]
        }
      ]
    },
    {
      "cell_type": "code",
      "source": [
        "df = data.copy()\n",
        "\n",
        "Red_corridor = df[(df.State.isin(['Jharkhand', 'Odisha', 'Andhra Pradesh', 'Chhattisgarh']))]\n",
        "Jammu_data = df[(df.State == 'Jammu and Kashmir')]\n",
        "sumrc = Red_corridor.Killed.sum() + Red_corridor.Wounded.sum()\n",
        "sumjk = Jammu_data.Killed.sum() + Jammu_data.Wounded.sum()\n",
        "\n",
        "total_years = df['Year'].nunique()\n",
        "rc_frequency = int(sumrc/total_years)\n",
        "jk_frequency = int(sumjk/total_years)\n",
        "\n",
        "print(rc_frequency, jk_frequency)"
      ],
      "metadata": {
        "colab": {
          "base_uri": "https://localhost:8080/"
        },
        "id": "UVErWnCBuSdv",
        "outputId": "5f91285d-8d08-48eb-f741-69f708888d66"
      },
      "execution_count": null,
      "outputs": [
        {
          "output_type": "stream",
          "name": "stdout",
          "text": [
            "119 269\n"
          ]
        }
      ]
    },
    {
      "cell_type": "code",
      "source": [
        "df = data.copy()\n",
        "\n",
        "Red_corridor = df[(df.State.isin(['Jharkhand', 'Odisha', 'Andhra Pradesh', 'Chhattisgarh']))]\n",
        "Jammu_data = df[(df.State == 'Jammu and Kashmir')]\n",
        "sumrc = Red_corridor.Killed.sum() + Red_corridor.Wounded.sum()\n",
        "sumjk = Jammu_data.Killed.sum() + Jammu_data.Wounded.sum()\n",
        "\n",
        "total_years = df['Year'].nunique()\n",
        "rc_frequency = int(sumrc/total_years)\n",
        "jk_frequency = int(sumjk/total_years)\n",
        "\n",
        "print(rc_frequency, jk_frequency)"
      ],
      "metadata": {
        "colab": {
          "base_uri": "https://localhost:8080/"
        },
        "id": "gbUtqvKE6DSK",
        "outputId": "65081707-ff43-4191-a96e-354e13ab0f99"
      },
      "execution_count": null,
      "outputs": [
        {
          "output_type": "stream",
          "name": "stdout",
          "text": [
            "119 269\n"
          ]
        }
      ]
    },
    {
      "cell_type": "code",
      "source": [
        "import matplotlib.pyplot as plt\n"
      ],
      "metadata": {
        "id": "2G5p38BkRt8i"
      },
      "execution_count": null,
      "outputs": []
    },
    {
      "cell_type": "code",
      "source": [
        "x = [1,2,3,4,5]\n",
        "y = [2,4,6,8,10]\n",
        "plt.scatter(x,y)\n",
        "plt.show()\n",
        "plt.plot(x,y)\n",
        "plt.show()"
      ],
      "metadata": {
        "colab": {
          "base_uri": "https://localhost:8080/",
          "height": 843
        },
        "id": "YkKI4iCJCABC",
        "outputId": "b6e31ba0-8969-4070-ec6c-24d7138cb7f2"
      },
      "execution_count": null,
      "outputs": [
        {
          "output_type": "display_data",
          "data": {
            "text/plain": [
              "<Figure size 640x480 with 1 Axes>"
            ],
            "image/png": "[encoded data removed]"
          },
          "metadata": {}
        },
        {
          "output_type": "display_data",
          "data": {
            "text/plain": [
              "<Figure size 640x480 with 1 Axes>"
            ],
            "image/png": "[encoded data removed]"
          },
          "metadata": {}
        }
      ]
    },
    {
      "cell_type": "code",
      "source": [
        "plt.plot(x,y)"
      ],
      "metadata": {
        "colab": {
          "base_uri": "https://localhost:8080/",
          "height": 447
        },
        "id": "0IEbCkoyCmWr",
        "outputId": "493f788a-d2ea-413b-da91-55feea97b97c"
      },
      "execution_count": null,
      "outputs": [
        {
          "output_type": "execute_result",
          "data": {
            "text/plain": [
              "[<matplotlib.lines.Line2D at 0x7b331eacc9d0>]"
            ]
          },
          "metadata": {},
          "execution_count": 40
        },
        {
          "output_type": "display_data",
          "data": {
            "text/plain": [
              "<Figure size 640x480 with 1 Axes>"
            ],
            "image/png": "[encoded data removed]"
          },
          "metadata": {}
        }
      ]
    },
    {
      "cell_type": "code",
      "source": [
        "x = [1,2,3,4,5]\n",
        "y = [1,4,9,16,25]\n",
        "plt.plot(x,y,\"b+\")"
      ],
      "metadata": {
        "colab": {
          "base_uri": "https://localhost:8080/",
          "height": 447
        },
        "id": "FLtsVNOCC-Pf",
        "outputId": "84923b9a-766a-499c-cd8c-f83d72c5cdec"
      },
      "execution_count": null,
      "outputs": [
        {
          "output_type": "execute_result",
          "data": {
            "text/plain": [
              "[<matplotlib.lines.Line2D at 0x7b331e571810>]"
            ]
          },
          "metadata": {},
          "execution_count": 48
        },
        {
          "output_type": "display_data",
          "data": {
            "text/plain": [
              "<Figure size 640x480 with 1 Axes>"
            ],
            "image/png": "[encoded data removed]"
          },
          "metadata": {}
        }
      ]
    },
    {
      "cell_type": "code",
      "source": [
        "#Plotting Functions"
      ],
      "metadata": {
        "id": "ig3vjrZED3Ag"
      },
      "execution_count": null,
      "outputs": []
    },
    {
      "cell_type": "code",
      "source": [
        "import numpy as np\n",
        "x = np.array([1,2,3,4,5])\n",
        "y = x**3\n",
        "plt.plot(x,y, label= \"x^3\")\n",
        "plt.title(\"cubic\")\n",
        "plt.xlabel(\"x-axis\")\n",
        "plt.ylabel(\"y-axis\")\n",
        "plt.legend()\n",
        "plt.show()"
      ],
      "metadata": {
        "colab": {
          "base_uri": "https://localhost:8080/",
          "height": 472
        },
        "id": "kaYiGjB5EHcE",
        "outputId": "67156243-1934-43fd-c809-d4ad124c1a6c"
      },
      "execution_count": null,
      "outputs": [
        {
          "output_type": "display_data",
          "data": {
            "text/plain": [
              "<Figure size 640x480 with 1 Axes>"
            ],
            "image/png": "[encoded data removed]"
          },
          "metadata": {}
        }
      ]
    }
  ]
}